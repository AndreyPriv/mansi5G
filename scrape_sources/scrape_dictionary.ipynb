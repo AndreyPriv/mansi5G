{
 "cells": [
  {
   "cell_type": "markdown",
   "id": "900aea0b",
   "metadata": {},
   "source": [
    "Скрейпинг словаря: Афанасьева К.В., Собянина С.А. Школьный мансийско-русский (орфографический) словарь"
   ]
  },
  {
   "cell_type": "code",
   "execution_count": 1,
   "id": "f0dc739e",
   "metadata": {},
   "outputs": [],
   "source": [
    "import requests\n",
    "from bs4 import BeautifulSoup\n",
    "from tqdm import tqdm"
   ]
  },
  {
   "cell_type": "code",
   "execution_count": 2,
   "id": "2e91d008",
   "metadata": {},
   "outputs": [],
   "source": [
    "base = \"https://dict.fu-lab.ru/dict-p?id=238837&page=\""
   ]
  },
  {
   "cell_type": "code",
   "execution_count": 29,
   "id": "2be729d4",
   "metadata": {},
   "outputs": [],
   "source": [
    "words_list = []\n",
    "translation_list = []"
   ]
  },
  {
   "cell_type": "code",
   "execution_count": 39,
   "id": "2a802146",
   "metadata": {},
   "outputs": [
    {
     "name": "stderr",
     "output_type": "stream",
     "text": [
      "100%|██████████████████████████████████████████████████████████████████████████████████| 79/79 [00:41<00:00,  1.91it/s]\n"
     ]
    }
   ],
   "source": [
    "for i in tqdm(range(1, 80)):\n",
    "    text = requests.get(f\"{base}{i}\").content\n",
    "    soup = BeautifulSoup(text, 'html.parser')\n",
    "    items = soup.find_all(\"div\", class_=\"row dict_p_content_item\")\n",
    "    for item in items:\n",
    "        words_list.append(item.find(\"a\").text)\n",
    "        translation_list.append(item.find(\"div\", class_=\"col-lg-10 col-md-10\").text[1:-1])"
   ]
  },
  {
   "cell_type": "code",
   "execution_count": 34,
   "id": "06bd7433",
   "metadata": {},
   "outputs": [],
   "source": [
    "translation_dict = {words_list[i]: translation_list[i] for i in range(len())}"
   ]
  },
  {
   "cell_type": "code",
   "execution_count": 38,
   "id": "8cc0a65f",
   "metadata": {},
   "outputs": [],
   "source": [
    "import json\n",
    "\n",
    "\n",
    "with open(\"Afanasieva_Sobyanina_dictionary.json\", \"w\", encoding=\"utf-8\") as f:\n",
    "    json.dump(translation_dict, f, indent=4, ensure_ascii=False)"
   ]
  }
 ],
 "metadata": {
  "kernelspec": {
   "display_name": "Python 3 (ipykernel)",
   "language": "python",
   "name": "python3"
  },
  "language_info": {
   "codemirror_mode": {
    "name": "ipython",
    "version": 3
   },
   "file_extension": ".py",
   "mimetype": "text/x-python",
   "name": "python",
   "nbconvert_exporter": "python",
   "pygments_lexer": "ipython3",
   "version": "3.9.16"
  }
 },
 "nbformat": 4,
 "nbformat_minor": 5
}
